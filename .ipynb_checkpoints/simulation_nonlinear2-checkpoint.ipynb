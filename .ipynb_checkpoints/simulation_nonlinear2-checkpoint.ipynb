{
 "cells": [
  {
   "cell_type": "code",
   "execution_count": 1,
   "metadata": {},
   "outputs": [],
   "source": [
    "%matplotlib qt\n",
    "import matplotlib\n",
    "import numpy as np\n",
    "import matplotlib.pyplot as plt\n",
    "from matplotlib.patches import Ellipse\n",
    "\n",
    "from copy import copy\n",
    "\n",
    "from gauss import Gaussian\n",
    "from velocity_motion_model import vmm\n",
    "from Error_ellipse import e_ellipse\n",
    "from Estimator_Bayes_NonLinear import BayesNonLinear\n",
    "\n",
    "dt = 1\n",
    "controls = np.array(np.zeros((2,10)))\n",
    "wt = (2*np.pi)/10\n",
    "R = np.array([[0.05,0,0],[0,0.05,0],[0,0,0.02]])\n",
    "Q = np.array([[0.05,0,0],[0,0.05,0],[0,0,0.02]])\n",
    "\n",
    "for i in range(0, len(controls[0])):\n",
    "    controls[0, i] = np.random.normal(5, 1)\n",
    "    controls[1, i] = np.random.normal(wt,0)    \n",
    "\n",
    "xt, zt = vmm.sim_move(controls, dt, R, Q)"
   ]
  },
  {
   "cell_type": "code",
   "execution_count": 2,
   "metadata": {},
   "outputs": [
    {
     "data": {
      "text/plain": [
       "<matplotlib.collections.PathCollection at 0x7f61ca2f4710>"
      ]
     },
     "execution_count": 2,
     "metadata": {},
     "output_type": "execute_result"
    }
   ],
   "source": [
    "##bayes_filter using taylor linearisation##\n",
    "fig0 = plt.figure(0)\n",
    "ax0 = plt.subplot(111, aspect = 'equal')\n",
    "beliefs = []\n",
    "mean_init = np.array([0,0,0])\n",
    "cov_init = np.array([[0.1, 0, 0],[0, 0.1, 0], [0, 0, 0.1]])\n",
    "belief_init = Gaussian(['x','y','theta'], mean_init, cov_init)\n",
    "beliefs.append(belief_init)\n",
    "\n",
    "bayesFilter = BayesNonLinear(R, Q)\n",
    "\n",
    "for i in range (0, len(controls[0])):\n",
    "    myDist = bayesFilter.estimate(beliefs[i], controls[:, i], zt[:, i+1], mode = 0)\n",
    "    myDist.updateCov()\n",
    "    beliefs.append(myDist)\n",
    "\n",
    "    \n",
    "for i in range (0, len(beliefs)):    \n",
    "    beliefs[i].marginalizeIndicesUpdate(arrIndices = np.array([2]))\n",
    "    beliefs[i].updateCov()\n",
    "    e_ellipse.plot_eEllipse(beliefs[i].mean, beliefs[i].cov, ax0, col = \"blue\")\n",
    "\n",
    "plt.scatter(xt[0,:], xt[1,:], c = \"black\", marker = \"x\")"
   ]
  },
  {
   "cell_type": "code",
   "execution_count": 3,
   "metadata": {},
   "outputs": [],
   "source": [
    "##bayes_filter using unscented transform##\n",
    "beliefs = []\n",
    "mean_init = np.array([0,0,0])\n",
    "cov_init = np.array([[0.1, 0, 0],[0, 0.1, 0], [0, 0, 0.1]])\n",
    "belief_init = Gaussian(['x','y','theta'], mean_init, cov_init)\n",
    "beliefs.append(belief_init)\n",
    "\n",
    "bayesFilter = BayesNonLinear(R, Q)\n",
    "\n",
    "for i in range (0, len(controls[0])):\n",
    "    myDist = bayesFilter.estimate(beliefs[i], controls[:, i], zt[:, i+1], mode = 1)\n",
    "    myDist.updateCov()\n",
    "    beliefs.append(myDist)\n",
    "\n",
    "    \n",
    "for i in range (0, len(beliefs)):   \n",
    "    beliefs[i].marginalizeIndicesUpdate(arrIndices = np.array([2]))\n",
    "    beliefs[i].updateCov()    \n",
    "    e_ellipse.plot_eEllipse(beliefs[i].mean, beliefs[i].cov, ax0, col = \"green\")\n"
   ]
  },
  {
   "cell_type": "code",
   "execution_count": 4,
   "metadata": {
    "scrolled": true
   },
   "outputs": [],
   "source": [
    "##bayes_filter using lob 2d##  10\n",
    "# beliefs = []\n",
    "# mean_init = np.array([0,0,0])\n",
    "# cov_init = np.array([[0.1, 0, 0],[0, 0.1, 0], [0, 0, 0.1]])\n",
    "# belief_init = Gaussian(['x','y','theta'], mean_init, cov_init)\n",
    "# beliefs.append(belief_init)\n",
    "\n",
    "# bayesFilter = BayesNonLinear(R, Q, N_samples = 10)\n",
    "\n",
    "# for i in range (0, len(controls[0])):\n",
    "#     myDist = bayesFilter.estimate(beliefs[i], controls[:, i], zt[:, i+1], mode = 2)\n",
    "#     myDist.updateCov()\n",
    "#     beliefs.append(myDist)\n",
    "\n",
    "    \n",
    "# for i in range (0, len(beliefs)):   \n",
    "#     beliefs[i].marginalizeIndicesUpdate(arrIndices = np.array([2]))\n",
    "#     beliefs[i].updateCov()    \n",
    "#     e_ellipse.plot_eEllipse(beliefs[i].mean, beliefs[i].cov, ax0, col = \"red\")"
   ]
  },
  {
   "cell_type": "code",
   "execution_count": 5,
   "metadata": {},
   "outputs": [],
   "source": [
    "#bayes_filter using lob 2d## 100\n",
    "beliefs = []\n",
    "mean_init = np.array([0,0,0])\n",
    "cov_init = np.array([[0.1, 0, 0],[0, 0.1, 0], [0, 0, 0.1]])\n",
    "belief_init = Gaussian(['x','y','theta'], mean_init, cov_init)\n",
    "beliefs.append(belief_init)\n",
    "\n",
    "bayesFilter = BayesNonLinear(R, Q, N_samples = 7)\n",
    "\n",
    "for i in range (0, len(controls[0])):\n",
    "    myDist = bayesFilter.estimate(beliefs[i], controls[:, i], zt[:, i+1], mode = 2)\n",
    "    myDist.updateCov()\n",
    "    beliefs.append(myDist)\n",
    "\n",
    "    \n",
    "for i in range (0, len(beliefs)):   \n",
    "    beliefs[i].marginalizeIndicesUpdate(arrIndices = np.array([2]))\n",
    "    beliefs[i].updateCov()    \n",
    "    e_ellipse.plot_eEllipse(beliefs[i].mean, beliefs[i].cov, ax0, col = \"purple\")"
   ]
  },
  {
   "cell_type": "code",
   "execution_count": 6,
   "metadata": {},
   "outputs": [],
   "source": [
    "##bayes_filter using lob 2d## 1000\n",
    "# beliefs = []\n",
    "# mean_init = np.array([0,0,0])\n",
    "# cov_init = np.array([[0.1, 0, 0],[0, 0.1, 0], [0, 0, 0.1]])\n",
    "# belief_init = Gaussian(['x','y','theta'], mean_init, cov_init)\n",
    "# beliefs.append(belief_init)\n",
    "\n",
    "# bayesFilter = BayesNonLinear(R, Q, N_samples = 1000)\n",
    "\n",
    "# for i in range (0, len(controls[0])):\n",
    "#     myDist = bayesFilter.estimate(beliefs[i], controls[:, i], zt[:, i+1], mode = 2)\n",
    "#     myDist.updateCov()\n",
    "#     beliefs.append(myDist)\n",
    "\n",
    "    \n",
    "# for i in range (0, len(beliefs)):   \n",
    "#     beliefs[i].marginalizeIndicesUpdate(arrIndices = np.array([2]))\n",
    "#     beliefs[i].updateCov()    \n",
    "#     e_ellipse.plot_eEllipse(beliefs[i].mean, beliefs[i].cov, ax0, col = \"black\")"
   ]
  },
  {
   "cell_type": "code",
   "execution_count": 7,
   "metadata": {},
   "outputs": [],
   "source": [
    "##bayes_filter using random estimate## 100\n",
    "beliefs = []\n",
    "mean_init = np.array([0,0,0])\n",
    "cov_init = np.array([[0.1, 0, 0],[0, 0.1, 0], [0, 0, 0.1]])\n",
    "belief_init = Gaussian(['x','y','theta'], mean_init, cov_init)\n",
    "beliefs.append(belief_init)\n",
    "\n",
    "bayesFilter = BayesNonLinear(R, Q, N_samples = 7)\n",
    "\n",
    "for i in range (0, len(controls[0])):\n",
    "    myDist = bayesFilter.estimate(beliefs[i], controls[:, i], zt[:, i+1], mode = 3)\n",
    "    myDist.updateCov()\n",
    "    beliefs.append(myDist)\n",
    "\n",
    "    \n",
    "for i in range (0, len(beliefs)):   \n",
    "    beliefs[i].marginalizeIndicesUpdate(arrIndices = np.array([2]))\n",
    "    beliefs[i].updateCov()    \n",
    "    e_ellipse.plot_eEllipse(beliefs[i].mean, beliefs[i].cov, ax0, col = \"red\")"
   ]
  }
 ],
 "metadata": {
  "kernelspec": {
   "display_name": "Python 3",
   "language": "python",
   "name": "python3"
  },
  "language_info": {
   "codemirror_mode": {
    "name": "ipython",
    "version": 3
   },
   "file_extension": ".py",
   "mimetype": "text/x-python",
   "name": "python",
   "nbconvert_exporter": "python",
   "pygments_lexer": "ipython3",
   "version": "3.6.5"
  }
 },
 "nbformat": 4,
 "nbformat_minor": 2
}
